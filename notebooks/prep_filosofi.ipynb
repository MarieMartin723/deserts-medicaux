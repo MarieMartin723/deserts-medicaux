{
 "cells": [
  {
   "cell_type": "markdown",
   "metadata": {},
   "source": [
    "# Préparation de la seconde table sur les caractéristiques démographiques"
   ]
  },
  {
   "cell_type": "code",
   "execution_count": 1,
   "metadata": {},
   "outputs": [],
   "source": [
    "import os \n",
    "import pandas as pd "
   ]
  },
  {
   "cell_type": "code",
   "execution_count": 2,
   "metadata": {},
   "outputs": [],
   "source": [
    "# Declaration des constantes\n",
    "DATA_DIR = '../data/external/'\n",
    "CITIES_FILENAME = 'base-cc-filosofi-2015.xls'\n",
    "PROCESSED_DIR = '../data/processed/'\n",
    "COMMUNES_DIR = 'PS_communes.csv'"
   ]
  },
  {
   "cell_type": "code",
   "execution_count": 3,
   "metadata": {},
   "outputs": [],
   "source": [
    "filo_df = pd.read_excel(os.path.join(DATA_DIR,CITIES_FILENAME), skiprows=5)"
   ]
  },
  {
   "cell_type": "code",
   "execution_count": 4,
   "metadata": {},
   "outputs": [
    {
     "data": {
      "text/plain": [
       "3596"
      ]
     },
     "execution_count": 4,
     "metadata": {},
     "output_type": "execute_result"
    }
   ],
   "source": [
    "filo_df.NBPERSMENFISC15.isnull().sum()"
   ]
  },
  {
   "cell_type": "markdown",
   "metadata": {},
   "source": [
    "10% du fichier ne porte pas d'effectif de population"
   ]
  },
  {
   "cell_type": "code",
   "execution_count": 5,
   "metadata": {},
   "outputs": [
    {
     "data": {
      "text/plain": [
       "(35848, 29)"
      ]
     },
     "execution_count": 5,
     "metadata": {},
     "output_type": "execute_result"
    }
   ],
   "source": [
    "filo_df.shape"
   ]
  },
  {
   "cell_type": "code",
   "execution_count": 6,
   "metadata": {},
   "outputs": [
    {
     "data": {
      "text/html": [
       "<div>\n",
       "<style scoped>\n",
       "    .dataframe tbody tr th:only-of-type {\n",
       "        vertical-align: middle;\n",
       "    }\n",
       "\n",
       "    .dataframe tbody tr th {\n",
       "        vertical-align: top;\n",
       "    }\n",
       "\n",
       "    .dataframe thead th {\n",
       "        text-align: right;\n",
       "    }\n",
       "</style>\n",
       "<table border=\"1\" class=\"dataframe\">\n",
       "  <thead>\n",
       "    <tr style=\"text-align: right;\">\n",
       "      <th></th>\n",
       "      <th>CODGEO</th>\n",
       "      <th>LIBGEO</th>\n",
       "      <th>NBMENFISC15</th>\n",
       "      <th>NBPERSMENFISC15</th>\n",
       "      <th>MED15</th>\n",
       "      <th>PIMP15</th>\n",
       "      <th>TP6015</th>\n",
       "      <th>TP60AGE115</th>\n",
       "      <th>TP60AGE215</th>\n",
       "      <th>TP60AGE315</th>\n",
       "      <th>...</th>\n",
       "      <th>PPEN15</th>\n",
       "      <th>PPAT15</th>\n",
       "      <th>PPSOC15</th>\n",
       "      <th>PPFAM15</th>\n",
       "      <th>PPMINI15</th>\n",
       "      <th>PPLOGT15</th>\n",
       "      <th>PIMPOT15</th>\n",
       "      <th>D115</th>\n",
       "      <th>D915</th>\n",
       "      <th>RD15</th>\n",
       "    </tr>\n",
       "  </thead>\n",
       "  <tbody>\n",
       "    <tr>\n",
       "      <th>0</th>\n",
       "      <td>01001</td>\n",
       "      <td>L'Abergement-Clémenciat</td>\n",
       "      <td>308.0</td>\n",
       "      <td>801.0</td>\n",
       "      <td>22228.000000</td>\n",
       "      <td>NaN</td>\n",
       "      <td>NaN</td>\n",
       "      <td>NaN</td>\n",
       "      <td>NaN</td>\n",
       "      <td>NaN</td>\n",
       "      <td>...</td>\n",
       "      <td>NaN</td>\n",
       "      <td>NaN</td>\n",
       "      <td>NaN</td>\n",
       "      <td>NaN</td>\n",
       "      <td>NaN</td>\n",
       "      <td>NaN</td>\n",
       "      <td>NaN</td>\n",
       "      <td>NaN</td>\n",
       "      <td>NaN</td>\n",
       "      <td>NaN</td>\n",
       "    </tr>\n",
       "    <tr>\n",
       "      <th>1</th>\n",
       "      <td>01002</td>\n",
       "      <td>L'Abergement-de-Varey</td>\n",
       "      <td>100.0</td>\n",
       "      <td>245.5</td>\n",
       "      <td>22883.333333</td>\n",
       "      <td>NaN</td>\n",
       "      <td>NaN</td>\n",
       "      <td>NaN</td>\n",
       "      <td>NaN</td>\n",
       "      <td>NaN</td>\n",
       "      <td>...</td>\n",
       "      <td>NaN</td>\n",
       "      <td>NaN</td>\n",
       "      <td>NaN</td>\n",
       "      <td>NaN</td>\n",
       "      <td>NaN</td>\n",
       "      <td>NaN</td>\n",
       "      <td>NaN</td>\n",
       "      <td>NaN</td>\n",
       "      <td>NaN</td>\n",
       "      <td>NaN</td>\n",
       "    </tr>\n",
       "    <tr>\n",
       "      <th>2</th>\n",
       "      <td>01004</td>\n",
       "      <td>Ambérieu-en-Bugey</td>\n",
       "      <td>6216.0</td>\n",
       "      <td>13917.0</td>\n",
       "      <td>19735.200000</td>\n",
       "      <td>53.312962</td>\n",
       "      <td>17.227132</td>\n",
       "      <td>19.058154</td>\n",
       "      <td>20.856552</td>\n",
       "      <td>22.513401</td>\n",
       "      <td>...</td>\n",
       "      <td>26.9</td>\n",
       "      <td>9.5</td>\n",
       "      <td>6.7</td>\n",
       "      <td>2.7</td>\n",
       "      <td>2.0</td>\n",
       "      <td>2.0</td>\n",
       "      <td>-15.8</td>\n",
       "      <td>10398.571429</td>\n",
       "      <td>33801.2</td>\n",
       "      <td>3.250562</td>\n",
       "    </tr>\n",
       "    <tr>\n",
       "      <th>3</th>\n",
       "      <td>01005</td>\n",
       "      <td>Ambérieux-en-Dombes</td>\n",
       "      <td>624.0</td>\n",
       "      <td>1671.5</td>\n",
       "      <td>23182.666667</td>\n",
       "      <td>NaN</td>\n",
       "      <td>NaN</td>\n",
       "      <td>NaN</td>\n",
       "      <td>NaN</td>\n",
       "      <td>NaN</td>\n",
       "      <td>...</td>\n",
       "      <td>NaN</td>\n",
       "      <td>NaN</td>\n",
       "      <td>NaN</td>\n",
       "      <td>NaN</td>\n",
       "      <td>NaN</td>\n",
       "      <td>NaN</td>\n",
       "      <td>NaN</td>\n",
       "      <td>NaN</td>\n",
       "      <td>NaN</td>\n",
       "      <td>NaN</td>\n",
       "    </tr>\n",
       "    <tr>\n",
       "      <th>4</th>\n",
       "      <td>01006</td>\n",
       "      <td>Ambléon</td>\n",
       "      <td>NaN</td>\n",
       "      <td>NaN</td>\n",
       "      <td>NaN</td>\n",
       "      <td>NaN</td>\n",
       "      <td>NaN</td>\n",
       "      <td>NaN</td>\n",
       "      <td>NaN</td>\n",
       "      <td>NaN</td>\n",
       "      <td>...</td>\n",
       "      <td>NaN</td>\n",
       "      <td>NaN</td>\n",
       "      <td>NaN</td>\n",
       "      <td>NaN</td>\n",
       "      <td>NaN</td>\n",
       "      <td>NaN</td>\n",
       "      <td>NaN</td>\n",
       "      <td>NaN</td>\n",
       "      <td>NaN</td>\n",
       "      <td>NaN</td>\n",
       "    </tr>\n",
       "  </tbody>\n",
       "</table>\n",
       "<p>5 rows × 29 columns</p>\n",
       "</div>"
      ],
      "text/plain": [
       "  CODGEO                   LIBGEO  NBMENFISC15  NBPERSMENFISC15         MED15  \\\n",
       "0  01001  L'Abergement-Clémenciat        308.0            801.0  22228.000000   \n",
       "1  01002    L'Abergement-de-Varey        100.0            245.5  22883.333333   \n",
       "2  01004        Ambérieu-en-Bugey       6216.0          13917.0  19735.200000   \n",
       "3  01005      Ambérieux-en-Dombes        624.0           1671.5  23182.666667   \n",
       "4  01006                  Ambléon          NaN              NaN           NaN   \n",
       "\n",
       "      PIMP15     TP6015  TP60AGE115  TP60AGE215  TP60AGE315    ...     PPEN15  \\\n",
       "0        NaN        NaN         NaN         NaN         NaN    ...        NaN   \n",
       "1        NaN        NaN         NaN         NaN         NaN    ...        NaN   \n",
       "2  53.312962  17.227132   19.058154   20.856552   22.513401    ...       26.9   \n",
       "3        NaN        NaN         NaN         NaN         NaN    ...        NaN   \n",
       "4        NaN        NaN         NaN         NaN         NaN    ...        NaN   \n",
       "\n",
       "   PPAT15  PPSOC15  PPFAM15  PPMINI15  PPLOGT15  PIMPOT15          D115  \\\n",
       "0     NaN      NaN      NaN       NaN       NaN       NaN           NaN   \n",
       "1     NaN      NaN      NaN       NaN       NaN       NaN           NaN   \n",
       "2     9.5      6.7      2.7       2.0       2.0     -15.8  10398.571429   \n",
       "3     NaN      NaN      NaN       NaN       NaN       NaN           NaN   \n",
       "4     NaN      NaN      NaN       NaN       NaN       NaN           NaN   \n",
       "\n",
       "      D915      RD15  \n",
       "0      NaN       NaN  \n",
       "1      NaN       NaN  \n",
       "2  33801.2  3.250562  \n",
       "3      NaN       NaN  \n",
       "4      NaN       NaN  \n",
       "\n",
       "[5 rows x 29 columns]"
      ]
     },
     "execution_count": 6,
     "metadata": {},
     "output_type": "execute_result"
    }
   ],
   "source": [
    "filo_df.head()"
   ]
  },
  {
   "cell_type": "code",
   "execution_count": 7,
   "metadata": {},
   "outputs": [
    {
     "name": "stdout",
     "output_type": "stream",
     "text": [
      "<class 'pandas.core.frame.DataFrame'>\n",
      "RangeIndex: 35848 entries, 0 to 35847\n",
      "Data columns (total 29 columns):\n",
      "CODGEO             35848 non-null object\n",
      "LIBGEO             35848 non-null object\n",
      "NBMENFISC15        32252 non-null float64\n",
      "NBPERSMENFISC15    32252 non-null float64\n",
      "MED15              32252 non-null float64\n",
      "PIMP15             5261 non-null float64\n",
      "TP6015             4393 non-null float64\n",
      "TP60AGE115         804 non-null float64\n",
      "TP60AGE215         1442 non-null float64\n",
      "TP60AGE315         1875 non-null float64\n",
      "TP60AGE415         1299 non-null float64\n",
      "TP60AGE515         854 non-null float64\n",
      "TP60AGE615         382 non-null float64\n",
      "TP60TOL115         2153 non-null float64\n",
      "TP60TOL215         3200 non-null float64\n",
      "PACT15             5257 non-null float64\n",
      "PTSA15             5257 non-null float64\n",
      "PCHO15             5257 non-null float64\n",
      "PBEN15             5257 non-null float64\n",
      "PPEN15             5257 non-null float64\n",
      "PPAT15             5257 non-null float64\n",
      "PPSOC15            5257 non-null float64\n",
      "PPFAM15            5257 non-null float64\n",
      "PPMINI15           5257 non-null float64\n",
      "PPLOGT15           5257 non-null float64\n",
      "PIMPOT15           5257 non-null float64\n",
      "D115               5257 non-null float64\n",
      "D915               5257 non-null float64\n",
      "RD15               5257 non-null float64\n",
      "dtypes: float64(27), object(2)\n",
      "memory usage: 7.9+ MB\n"
     ]
    }
   ],
   "source": [
    "filo_df.info()"
   ]
  },
  {
   "cell_type": "markdown",
   "metadata": {},
   "source": [
    "## Importation de la table des communes"
   ]
  },
  {
   "cell_type": "code",
   "execution_count": 8,
   "metadata": {},
   "outputs": [],
   "source": [
    "communes_df = pd.read_csv(os.path.join(PROCESSED_DIR,COMMUNES_DIR),\n",
    "                          sep =';',\n",
    "                         dtype = {'codecommuneetablissement' : str})"
   ]
  },
  {
   "cell_type": "raw",
   "metadata": {},
   "source": [
    "# Deuxième méthode si le code commune n'était pas en str dès l'importation de départ\n",
    "communes_df['codecommuneetablissement'] = communes_df['codecommuneetablissement'].str.replace('\\.0', '')\n",
    "b = '0'\n",
    "for i in range(len(communes_df)):\n",
    "    if len(communes_df['codecommuneetablissement'][i]) == 4:\n",
    "         communes_df['codecommuneetablissement'][i] = b + communes_df['codecommuneetablissement'][i]"
   ]
  },
  {
   "cell_type": "markdown",
   "metadata": {},
   "source": [
    "## Merge des deux tables par code commune"
   ]
  },
  {
   "cell_type": "code",
   "execution_count": 9,
   "metadata": {},
   "outputs": [],
   "source": [
    "final_df = (communes_df.merge(filo_df, left_on = 'codecommuneetablissement', right_on = 'CODGEO', how= 'outer', indicator = True)\n",
    "            .fillna(value = { c: 0 for c in communes_df.columns if c != 'codecommuneetablissement'} )\n",
    "           )"
   ]
  },
  {
   "cell_type": "code",
   "execution_count": 10,
   "metadata": {},
   "outputs": [
    {
     "data": {
      "text/plain": [
       "both          18721\n",
       "right_only    17127\n",
       "left_only      1757\n",
       "Name: _merge, dtype: int64"
      ]
     },
     "execution_count": 10,
     "metadata": {},
     "output_type": "execute_result"
    }
   ],
   "source": [
    "final_df._merge.value_counts()"
   ]
  },
  {
   "cell_type": "code",
   "execution_count": 40,
   "metadata": {},
   "outputs": [],
   "source": [
    "final_df.to_csv('../data/external/Analyse_df.csv', encoding = 'utf-8', sep = ',', index = False)"
   ]
  },
  {
   "cell_type": "code",
   "execution_count": 12,
   "metadata": {},
   "outputs": [
    {
     "data": {
      "text/html": [
       "<div>\n",
       "<style scoped>\n",
       "    .dataframe tbody tr th:only-of-type {\n",
       "        vertical-align: middle;\n",
       "    }\n",
       "\n",
       "    .dataframe tbody tr th {\n",
       "        vertical-align: top;\n",
       "    }\n",
       "\n",
       "    .dataframe thead th {\n",
       "        text-align: right;\n",
       "    }\n",
       "</style>\n",
       "<table border=\"1\" class=\"dataframe\">\n",
       "  <thead>\n",
       "    <tr style=\"text-align: right;\">\n",
       "      <th></th>\n",
       "      <th>codecommuneetablissement</th>\n",
       "      <th>ambulance</th>\n",
       "      <th>analyse_medicale</th>\n",
       "      <th>autre</th>\n",
       "      <th>autre_specialiste</th>\n",
       "      <th>chirurgien</th>\n",
       "      <th>dentiste</th>\n",
       "      <th>generaliste</th>\n",
       "      <th>hopital</th>\n",
       "      <th>infirmiers</th>\n",
       "      <th>organe</th>\n",
       "      <th>radiologue</th>\n",
       "      <th>reeducateur_podologue</th>\n",
       "    </tr>\n",
       "  </thead>\n",
       "  <tbody>\n",
       "    <tr>\n",
       "      <th>0</th>\n",
       "      <td>1001</td>\n",
       "      <td>0.0</td>\n",
       "      <td>0.0</td>\n",
       "      <td>0.0</td>\n",
       "      <td>0.0</td>\n",
       "      <td>0.0</td>\n",
       "      <td>0.0</td>\n",
       "      <td>0.0</td>\n",
       "      <td>0.0</td>\n",
       "      <td>0.0</td>\n",
       "      <td>0.0</td>\n",
       "      <td>0.0</td>\n",
       "      <td>1.0</td>\n",
       "    </tr>\n",
       "    <tr>\n",
       "      <th>1</th>\n",
       "      <td>1002</td>\n",
       "      <td>0.0</td>\n",
       "      <td>0.0</td>\n",
       "      <td>1.0</td>\n",
       "      <td>0.0</td>\n",
       "      <td>0.0</td>\n",
       "      <td>0.0</td>\n",
       "      <td>0.0</td>\n",
       "      <td>0.0</td>\n",
       "      <td>0.0</td>\n",
       "      <td>0.0</td>\n",
       "      <td>0.0</td>\n",
       "      <td>0.0</td>\n",
       "    </tr>\n",
       "    <tr>\n",
       "      <th>2</th>\n",
       "      <td>1004</td>\n",
       "      <td>1.0</td>\n",
       "      <td>4.0</td>\n",
       "      <td>21.0</td>\n",
       "      <td>35.0</td>\n",
       "      <td>9.0</td>\n",
       "      <td>15.0</td>\n",
       "      <td>25.0</td>\n",
       "      <td>8.0</td>\n",
       "      <td>32.0</td>\n",
       "      <td>0.0</td>\n",
       "      <td>5.0</td>\n",
       "      <td>36.0</td>\n",
       "    </tr>\n",
       "    <tr>\n",
       "      <th>3</th>\n",
       "      <td>1005</td>\n",
       "      <td>0.0</td>\n",
       "      <td>0.0</td>\n",
       "      <td>0.0</td>\n",
       "      <td>0.0</td>\n",
       "      <td>0.0</td>\n",
       "      <td>0.0</td>\n",
       "      <td>2.0</td>\n",
       "      <td>0.0</td>\n",
       "      <td>4.0</td>\n",
       "      <td>0.0</td>\n",
       "      <td>0.0</td>\n",
       "      <td>5.0</td>\n",
       "    </tr>\n",
       "    <tr>\n",
       "      <th>4</th>\n",
       "      <td>1007</td>\n",
       "      <td>0.0</td>\n",
       "      <td>0.0</td>\n",
       "      <td>3.0</td>\n",
       "      <td>0.0</td>\n",
       "      <td>0.0</td>\n",
       "      <td>0.0</td>\n",
       "      <td>5.0</td>\n",
       "      <td>0.0</td>\n",
       "      <td>4.0</td>\n",
       "      <td>0.0</td>\n",
       "      <td>0.0</td>\n",
       "      <td>3.0</td>\n",
       "    </tr>\n",
       "  </tbody>\n",
       "</table>\n",
       "</div>"
      ],
      "text/plain": [
       "  codecommuneetablissement  ambulance  analyse_medicale  autre  \\\n",
       "0                     1001        0.0               0.0    0.0   \n",
       "1                     1002        0.0               0.0    1.0   \n",
       "2                     1004        1.0               4.0   21.0   \n",
       "3                     1005        0.0               0.0    0.0   \n",
       "4                     1007        0.0               0.0    3.0   \n",
       "\n",
       "   autre_specialiste  chirurgien  dentiste  generaliste  hopital  infirmiers  \\\n",
       "0                0.0         0.0       0.0          0.0      0.0         0.0   \n",
       "1                0.0         0.0       0.0          0.0      0.0         0.0   \n",
       "2               35.0         9.0      15.0         25.0      8.0        32.0   \n",
       "3                0.0         0.0       0.0          2.0      0.0         4.0   \n",
       "4                0.0         0.0       0.0          5.0      0.0         4.0   \n",
       "\n",
       "   organe  radiologue  reeducateur_podologue  \n",
       "0     0.0         0.0                    1.0  \n",
       "1     0.0         0.0                    0.0  \n",
       "2     0.0         5.0                   36.0  \n",
       "3     0.0         0.0                    5.0  \n",
       "4     0.0         0.0                    3.0  "
      ]
     },
     "execution_count": 12,
     "metadata": {},
     "output_type": "execute_result"
    }
   ],
   "source": [
    "communes_df.head()"
   ]
  }
 ],
 "metadata": {
  "kernelspec": {
   "display_name": "Python 3",
   "language": "python",
   "name": "python3"
  },
  "language_info": {
   "codemirror_mode": {
    "name": "ipython",
    "version": 3
   },
   "file_extension": ".py",
   "mimetype": "text/x-python",
   "name": "python",
   "nbconvert_exporter": "python",
   "pygments_lexer": "ipython3",
   "version": "3.7.0"
  }
 },
 "nbformat": 4,
 "nbformat_minor": 2
}
