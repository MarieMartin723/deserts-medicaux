{
 "cells": [
  {
   "cell_type": "markdown",
   "metadata": {},
   "source": [
    "# Préparation de la base sirene"
   ]
  },
  {
   "cell_type": "markdown",
   "metadata": {},
   "source": [
    "Pour plus tard\n",
    "\n",
    "df = ppro_df.loc[ppro_df.cross_l1.isin(['86_86','86_68','84_86','86_87','86_88'])]  "
   ]
  },
  {
   "cell_type": "code",
   "execution_count": 19,
   "metadata": {},
   "outputs": [],
   "source": [
    "import os\n",
    "\n",
    "import pandas as pd "
   ]
  },
  {
   "cell_type": "code",
   "execution_count": 20,
   "metadata": {},
   "outputs": [],
   "source": [
    "# Declaration des constantes\n",
    "DATA_DIR = '../data/external/'\n",
    "ENTITIES_FILENAME = 'StockUniteLegale_utf8.zip'\n",
    "ETAB_FILENAME = 'StockEtablissement_utf8.zip'\n",
    "ACTIVITY_CODE = '86.'\n",
    "NAF_REF_FILENAME = \"naf86.xlsx\"\n",
    "PROCESSED_DIR = '../data/processed/'\n",
    "PS_CITIES_FILENAME = 'PS_communes.csv'"
   ]
  },
  {
   "cell_type": "raw",
   "metadata": {},
   "source": [
    "pd.read_csv(os.path.join(DATA_DIR, ENTITIES_FILENAME), # Concaténation du répertoire et du nom de fichier\n",
    "            compression='zip',\n",
    "            nrows=1000 # limite à 1000 lignes la lecture\n",
    "           ).head()"
   ]
  },
  {
   "cell_type": "raw",
   "metadata": {},
   "source": [
    "pd.read_csv(os.path.join(DATA_DIR, ENTITIES_FILENAME), # Concaténation du répertoire et du nom de fichier\n",
    "            compression='zip',\n",
    "            nrows=1000 # limite à 1000 lignes la lecture\n",
    "           ).columns"
   ]
  },
  {
   "cell_type": "markdown",
   "metadata": {},
   "source": [
    "## Préparation des entités"
   ]
  },
  {
   "cell_type": "code",
   "execution_count": null,
   "metadata": {},
   "outputs": [
    {
     "name": "stderr",
     "output_type": "stream",
     "text": [
      "<string>:2: DtypeWarning: Columns (21) have mixed types. Specify dtype option on import or set low_memory=False.\n"
     ]
    }
   ],
   "source": [
    "%%time\n",
    "entities_df = (pd.read_csv(os.path.join(DATA_DIR, ENTITIES_FILENAME), # Concaténation du répertoire et du nom de fichier\n",
    "                           usecols=['siren','denominationunitelegale',\n",
    "                                    'activiteprincipaleunitelegale', 'datecreationunitelegale',\n",
    "                                    'denominationunitelegale', 'nomunitelegale', 'etatadministratifunitelegale',\n",
    "                                   ],\n",
    "                           compression='zip',\n",
    "                           #nrows=100000 # limite à n lignes la lecture\n",
    "                          )\n",
    "             ).dropna(subset=['activiteprincipaleunitelegale']).query('etatadministratifunitelegale == \"A\"')\n",
    "\n",
    "# Filtrage des professionnels de santé\n",
    "#entities_df = entities_df[entities_df.activiteprincipaleunitelegale.str.startswith(ACTIVITY_CODE)] # 86."
   ]
  },
  {
   "cell_type": "code",
   "execution_count": null,
   "metadata": {},
   "outputs": [],
   "source": [
    "entities_df.shape"
   ]
  },
  {
   "cell_type": "code",
   "execution_count": null,
   "metadata": {},
   "outputs": [],
   "source": [
    "entities_df.denominationunitelegale.isnull().sum()"
   ]
  },
  {
   "cell_type": "code",
   "execution_count": null,
   "metadata": {},
   "outputs": [],
   "source": [
    "entities_df.nomunitelegale.isnull().sum()"
   ]
  },
  {
   "cell_type": "code",
   "execution_count": null,
   "metadata": {},
   "outputs": [],
   "source": [
    "entities_df.denominationunitelegale.isnull().sum() + entities_df.nomunitelegale.isnull().sum()"
   ]
  },
  {
   "cell_type": "code",
   "execution_count": null,
   "metadata": {},
   "outputs": [],
   "source": [
    "entities_df.head()"
   ]
  },
  {
   "cell_type": "markdown",
   "metadata": {},
   "source": [
    "## Preparaton des etablissements"
   ]
  },
  {
   "cell_type": "raw",
   "metadata": {},
   "source": [
    "pd.read_csv(os.path.join(DATA_DIR,ETAB_FILENAME), # concatenation du répertoire et du nom de fichier\n",
    "            compression = 'zip',\n",
    "            nrows = 1000 # limite à 1000 ligne de la lecture\n",
    "           ).columns.sort_values()"
   ]
  },
  {
   "cell_type": "raw",
   "metadata": {},
   "source": [
    "pd.read_csv(os.path.join(DATA_DIR,ETAB_FILENAME), # concatenation du répertoire et du nom de fichier\n",
    "            compression = 'zip',\n",
    "            nrows = 1000 # limite à 1000 ligne de la lecture\n",
    "           ).head()"
   ]
  },
  {
   "cell_type": "code",
   "execution_count": null,
   "metadata": {},
   "outputs": [],
   "source": [
    "%%time\n",
    "etab_df = (pd.read_csv(os.path.join(DATA_DIR, ETAB_FILENAME), # Concaténation du répertoire et du nom de fichier\n",
    "                       usecols=['siren',\n",
    "                                'activiteprincipaleetablissement', 'datecreationetablissement',\n",
    "                                'enseigne1etablissement', 'denominationusuelleetablissement',\n",
    "                                'etatadministratifetablissement',\n",
    "                                'codepostaletablissement', 'codecommuneetablissement', 'libellecommuneetablissement',\n",
    "                               ],\n",
    "                           compression='zip',\n",
    "                       dtype = {'codepostaletablissement' : str,'codecommuneetablissement' : str}\n",
    "                           #nrows=1_000_000 # limite à n lignes la lecture\n",
    "                          )\n",
    "             ).dropna(subset=['activiteprincipaleetablissement']).query('etatadministratifetablissement == \"A\"')\n",
    "\n",
    "# Filtrage des professionnels de santé\n",
    "#etab_df = etab_df[etab_df.activiteprincipaleetablissement.str.startswith(ACTIVITY_CODE)] # 86."
   ]
  },
  {
   "cell_type": "code",
   "execution_count": null,
   "metadata": {},
   "outputs": [],
   "source": [
    "etab_df.head(10)"
   ]
  },
  {
   "cell_type": "code",
   "execution_count": null,
   "metadata": {},
   "outputs": [],
   "source": [
    "etab_df.dtypes"
   ]
  },
  {
   "cell_type": "code",
   "execution_count": null,
   "metadata": {},
   "outputs": [],
   "source": [
    "entities_df.dtypes"
   ]
  },
  {
   "cell_type": "code",
   "execution_count": null,
   "metadata": {},
   "outputs": [],
   "source": [
    "process_df = etab_df.merge(entities_df, on= 'siren', how= 'left')"
   ]
  },
  {
   "cell_type": "code",
   "execution_count": null,
   "metadata": {},
   "outputs": [],
   "source": [
    "process_df.shape"
   ]
  },
  {
   "cell_type": "code",
   "execution_count": null,
   "metadata": {},
   "outputs": [],
   "source": [
    "process_df[process_df.activiteprincipaleunitelegale.isnull()].shape"
   ]
  },
  {
   "cell_type": "code",
   "execution_count": null,
   "metadata": {},
   "outputs": [],
   "source": [
    "process_df[process_df.activiteprincipaleunitelegale.isnull()].shape"
   ]
  },
  {
   "cell_type": "code",
   "execution_count": null,
   "metadata": {},
   "outputs": [],
   "source": [
    "etab_df.memory_usage(deep=True).sum() / (1024 * 1024) # En mégaoctet"
   ]
  },
  {
   "cell_type": "code",
   "execution_count": null,
   "metadata": {},
   "outputs": [],
   "source": [
    "entities_df.memory_usage(deep=True).sum() / (1024 * 1024) # En mégaoctet"
   ]
  },
  {
   "cell_type": "code",
   "execution_count": null,
   "metadata": {},
   "outputs": [],
   "source": [
    "pro_df = etab_df.merge(entities_df, on= 'siren', how= 'outer', indicator =True)"
   ]
  },
  {
   "cell_type": "markdown",
   "metadata": {},
   "source": [
    "## Fusion entre les entreprises et les établissements"
   ]
  },
  {
   "cell_type": "code",
   "execution_count": null,
   "metadata": {},
   "outputs": [],
   "source": [
    "pro_df.head()"
   ]
  },
  {
   "cell_type": "code",
   "execution_count": null,
   "metadata": {},
   "outputs": [],
   "source": [
    "#%%dpaste\n",
    "ppro_df = (pro_df.loc[pro_df.activiteprincipaleunitelegale.str.startswith(\"86.\") |\n",
    "                      pro_df.activiteprincipaleetablissement.str.startswith(\"86.\")]\n",
    "           .assign(etab_apel1 = lambda df : df.activiteprincipaleetablissement.str.slice(0,2))\n",
    "           .assign(el_apel1 = lambda df : df.activiteprincipaleunitelegale.str.slice(0,2))\n",
    "           .assign(cross_l1 = lambda df : df.el_apel1 + '_' + df.etab_apel1 )\n",
    "           \n",
    "           \n",
    ")"
   ]
  },
  {
   "cell_type": "raw",
   "metadata": {},
   "source": [
    "# %load https://dpaste.de/SWEe/raw\n",
    "ps_df = (merged_df.loc[merged_df.activiteprincipaleunitelegale.str.startswith(\"86.\") |\n",
    "                      merged_df.activiteprincipaleetablissement.str.startswith(\"86.\")]\n",
    "         .assign(etab_ape_l1 = lambda df: df.activiteprincipaleetablissement.str.slice(0, 2))\n",
    "         .assign(el_ape_l1 = lambda x: x.activiteprincipaleunitelegale.str.slice(0, 2))\n",
    "         .assign(cross_l1 = lambda df: df.el_ape_l1 + '_' + df.etab_ape_l1)\n",
    "        )\n",
    "merged_df = (etab_df.merge(entities_df, on='siren', how='outer', indicator=True)"
   ]
  },
  {
   "cell_type": "code",
   "execution_count": null,
   "metadata": {},
   "outputs": [],
   "source": [
    "pd.crosstab(ppro_df.etab_apel1,ppro_df.el_apel1)"
   ]
  },
  {
   "cell_type": "code",
   "execution_count": null,
   "metadata": {},
   "outputs": [],
   "source": [
    "ppro_df.cross_l1.value_counts()"
   ]
  },
  {
   "cell_type": "markdown",
   "metadata": {},
   "source": [
    "86_68 signifie qu'il est bien médecin mais il est logé dans un batiment ayant une activité mobilière </p>\n",
    "84_86 c'est une administration publique mais c'est un hopital donc medecin dan sun hopital </p>\n",
    "86_87 activité d'hébergement medico-social (maison de santé...)"
   ]
  },
  {
   "cell_type": "markdown",
   "metadata": {},
   "source": [
    "## Analyse des croisements NAF entités établissements\n",
    "\n",
    "https://www.insee.fr/fr/information/2120875"
   ]
  },
  {
   "cell_type": "code",
   "execution_count": null,
   "metadata": {},
   "outputs": [],
   "source": [
    "ppro_df.cross_l1.value_counts(normalize = True).head()"
   ]
  },
  {
   "cell_type": "code",
   "execution_count": null,
   "metadata": {},
   "outputs": [],
   "source": [
    "pd.crosstab(ppro_df.query('cross_l1 == \"86_86\"').activiteprincipaleetablissement,\n",
    "           ppro_df.query('cross_l1 == \"86_86\"').activiteprincipaleunitelegale)"
   ]
  },
  {
   "cell_type": "code",
   "execution_count": null,
   "metadata": {},
   "outputs": [],
   "source": [
    "ppro_df['code_activite'] = ppro_df.apply(lambda x : x.activiteprincipaleetablissement\n",
    "                                        if x.etab_apel1 == '86'\n",
    "                                        else x.activiteprincipaleunitelegale, axis = 1\n",
    "                                        )"
   ]
  },
  {
   "cell_type": "code",
   "execution_count": null,
   "metadata": {},
   "outputs": [],
   "source": [
    "ppro_df.code_activite.value_counts()"
   ]
  },
  {
   "cell_type": "markdown",
   "metadata": {},
   "source": [
    "quand 86_86 je prend etablissement\n",
    "quand il y a 86 quelque chose on prend le 86 des 2 "
   ]
  },
  {
   "cell_type": "markdown",
   "metadata": {},
   "source": [
    "## Préparation de la table des codes NAF"
   ]
  },
  {
   "cell_type": "code",
   "execution_count": 17,
   "metadata": {},
   "outputs": [],
   "source": [
    "#naf_df = pd.read_clipboard()\n",
    "naf_df= pd.read_excel(os.path.join(DATA_DIR, NAF_REF_FILENAME))\n"
   ]
  },
  {
   "cell_type": "code",
   "execution_count": 18,
   "metadata": {},
   "outputs": [
    {
     "data": {
      "text/html": [
       "<div>\n",
       "<style scoped>\n",
       "    .dataframe tbody tr th:only-of-type {\n",
       "        vertical-align: middle;\n",
       "    }\n",
       "\n",
       "    .dataframe tbody tr th {\n",
       "        vertical-align: top;\n",
       "    }\n",
       "\n",
       "    .dataframe thead th {\n",
       "        text-align: right;\n",
       "    }\n",
       "</style>\n",
       "<table border=\"1\" class=\"dataframe\">\n",
       "  <thead>\n",
       "    <tr style=\"text-align: right;\">\n",
       "      <th></th>\n",
       "      <th>NAF</th>\n",
       "      <th>Libellé</th>\n",
       "      <th>Catégorie</th>\n",
       "    </tr>\n",
       "  </thead>\n",
       "  <tbody>\n",
       "    <tr>\n",
       "      <th>1914</th>\n",
       "      <td>86.10Z</td>\n",
       "      <td>Activités hospitalières</td>\n",
       "      <td>hopital</td>\n",
       "    </tr>\n",
       "    <tr>\n",
       "      <th>1918</th>\n",
       "      <td>86.21Z</td>\n",
       "      <td>Activité des médecins généralistes</td>\n",
       "      <td>generaliste</td>\n",
       "    </tr>\n",
       "    <tr>\n",
       "      <th>1920</th>\n",
       "      <td>86.22A</td>\n",
       "      <td>Activités de radiodiagnostic et de radiothérapie</td>\n",
       "      <td>radiologue</td>\n",
       "    </tr>\n",
       "    <tr>\n",
       "      <th>1921</th>\n",
       "      <td>86.22B</td>\n",
       "      <td>Activités chirurgicales</td>\n",
       "      <td>chirurgien</td>\n",
       "    </tr>\n",
       "    <tr>\n",
       "      <th>1922</th>\n",
       "      <td>86.22C</td>\n",
       "      <td>Autres activités des médecins spécialistes</td>\n",
       "      <td>autre_specialiste</td>\n",
       "    </tr>\n",
       "    <tr>\n",
       "      <th>1924</th>\n",
       "      <td>86.23Z</td>\n",
       "      <td>Pratique dentaire</td>\n",
       "      <td>dentiste</td>\n",
       "    </tr>\n",
       "    <tr>\n",
       "      <th>1928</th>\n",
       "      <td>86.90A</td>\n",
       "      <td>Ambulances</td>\n",
       "      <td>ambulance</td>\n",
       "    </tr>\n",
       "    <tr>\n",
       "      <th>1929</th>\n",
       "      <td>86.90B</td>\n",
       "      <td>Laboratoires d'analyses médicales</td>\n",
       "      <td>analyse_medicale</td>\n",
       "    </tr>\n",
       "    <tr>\n",
       "      <th>1930</th>\n",
       "      <td>86.90C</td>\n",
       "      <td>Centres de collecte et banques d'organes</td>\n",
       "      <td>organe</td>\n",
       "    </tr>\n",
       "    <tr>\n",
       "      <th>1931</th>\n",
       "      <td>86.90D</td>\n",
       "      <td>Activités des infirmiers et des sages-femmes</td>\n",
       "      <td>infirmiers</td>\n",
       "    </tr>\n",
       "    <tr>\n",
       "      <th>1932</th>\n",
       "      <td>86.90E</td>\n",
       "      <td>Activités des professionnels de la rééducation...</td>\n",
       "      <td>reeducateur_podologue</td>\n",
       "    </tr>\n",
       "    <tr>\n",
       "      <th>1933</th>\n",
       "      <td>86.90F</td>\n",
       "      <td>Activités de santé humaine non classées ailleurs</td>\n",
       "      <td>autre</td>\n",
       "    </tr>\n",
       "  </tbody>\n",
       "</table>\n",
       "</div>"
      ],
      "text/plain": [
       "         NAF                                            Libellé  \\\n",
       "1914  86.10Z                            Activités hospitalières   \n",
       "1918  86.21Z                 Activité des médecins généralistes   \n",
       "1920  86.22A   Activités de radiodiagnostic et de radiothérapie   \n",
       "1921  86.22B                            Activités chirurgicales   \n",
       "1922  86.22C         Autres activités des médecins spécialistes   \n",
       "1924  86.23Z                                  Pratique dentaire   \n",
       "1928  86.90A                                         Ambulances   \n",
       "1929  86.90B                  Laboratoires d'analyses médicales   \n",
       "1930  86.90C           Centres de collecte et banques d'organes   \n",
       "1931  86.90D       Activités des infirmiers et des sages-femmes   \n",
       "1932  86.90E  Activités des professionnels de la rééducation...   \n",
       "1933  86.90F   Activités de santé humaine non classées ailleurs   \n",
       "\n",
       "                  Catégorie  \n",
       "1914                hopital  \n",
       "1918            generaliste  \n",
       "1920             radiologue  \n",
       "1921             chirurgien  \n",
       "1922      autre_specialiste  \n",
       "1924               dentiste  \n",
       "1928              ambulance  \n",
       "1929       analyse_medicale  \n",
       "1930                 organe  \n",
       "1931             infirmiers  \n",
       "1932  reeducateur_podologue  \n",
       "1933                  autre  "
      ]
     },
     "execution_count": 18,
     "metadata": {},
     "output_type": "execute_result"
    }
   ],
   "source": [
    "naf_df"
   ]
  },
  {
   "cell_type": "markdown",
   "metadata": {},
   "source": [
    "## Création de la table des communes\n",
    "\n",
    "Tout d'abord on crée une dataframe ayant le code commune en lignes et les spécialités en colonnes \n",
    "\n",
    "|Commune|Spé 1 | Spé 2| ...|\n",
    "------|--------|-------|----|\n",
    "58290 | medecin| hopital| ...|\n"
   ]
  },
  {
   "cell_type": "code",
   "execution_count": null,
   "metadata": {},
   "outputs": [],
   "source": [
    "commune_df= (ppro_df\n",
    " .merge(naf_df, left_on = 'code_activite', right_on ='NAF', how = 'inner')\n",
    " [['codecommuneetablissement','Catégorie']]\n",
    " .dropna(subset = ['codecommuneetablissement'])\n",
    " .assign(count = 1 )\n",
    " .groupby(['codecommuneetablissement','Catégorie'])\n",
    " .sum()\n",
    " .reset_index()\n",
    " .pivot(index = 'codecommuneetablissement', columns = 'Catégorie', values = 'count')\n",
    " .fillna(0)\n",
    ")"
   ]
  },
  {
   "cell_type": "code",
   "execution_count": null,
   "metadata": {},
   "outputs": [],
   "source": [
    "commune_df.head()"
   ]
  },
  {
   "cell_type": "markdown",
   "metadata": {},
   "source": [
    "Enregistrement de la table comme on va en avoir besoin pour le merge final. On peut mettre en csv, pickle (objet pandas enregistré tel qu'il est sur le disque, se relit plus vite qu'un csv), ou hdF (interessant pour les gros fichiers, lisible sur python, R...)"
   ]
  },
  {
   "cell_type": "code",
   "execution_count": null,
   "metadata": {},
   "outputs": [],
   "source": [
    "commune_df.to_csv(os.path.join(PROCESSED_DIR,PS_CITIES_FILENAME),sep = ';', dtype = {'codecommuneetablissement': str})"
   ]
  },
  {
   "cell_type": "raw",
   "metadata": {},
   "source": [
    "# brouillon\n",
    "\n",
    "\n",
    "creation d'une table avec en ligne les communes et en colonnes les spécialités\n",
    "\n",
    "len(pro_df[pro_df.activiteprincipaleetablissement.str.startswith(ACTIVITY_CODE) == pro_df.activiteprincipaleunitelegale.str.startswith(ACTIVITY_CODE)])\n",
    "df_diff= pro_df[pro_df.activiteprincipaleetablissement.str.startswith(ACTIVITY_CODE) != pro_df.activiteprincipaleunitelegale.str.startswith(ACTIVITY_CODE)]\n",
    "df = df_diff[['siren','activiteprincipaleunitelegale','activiteprincipaleetablissement','denominationunitelegale','codepostaletablissement','codecommuneetablissement','denominationunitelegale']]\n",
    "len(df)\n",
    "len(df.dropna(subset=['denominationunitelegale']))\n",
    "df = df.dropna(subset=['denominationunitelegale'])\n",
    "df['codepostaletablissement'] = floor(df['codepostaletablissement'])"
   ]
  }
 ],
 "metadata": {
  "kernelspec": {
   "display_name": "Python 3",
   "language": "python",
   "name": "python3"
  },
  "language_info": {
   "codemirror_mode": {
    "name": "ipython",
    "version": 3
   },
   "file_extension": ".py",
   "mimetype": "text/x-python",
   "name": "python",
   "nbconvert_exporter": "python",
   "pygments_lexer": "ipython3",
   "version": "3.7.0"
  }
 },
 "nbformat": 4,
 "nbformat_minor": 2
}
